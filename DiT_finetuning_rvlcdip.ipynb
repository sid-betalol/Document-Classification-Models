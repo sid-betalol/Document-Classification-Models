{
  "nbformat": 4,
  "nbformat_minor": 0,
  "metadata": {
    "colab": {
      "provenance": [],
      "gpuType": "T4",
      "authorship_tag": "ABX9TyOcWA3BTbnNMUYTaPjotS4R",
      "include_colab_link": true
    },
    "kernelspec": {
      "name": "python3",
      "display_name": "Python 3"
    },
    "language_info": {
      "name": "python"
    },
    "accelerator": "GPU",
    "widgets": {
      "application/vnd.jupyter.widget-state+json": {
        "7b1fed2a1f3a4a99b08647b477c59bfe": {
          "model_module": "@jupyter-widgets/controls",
          "model_name": "HBoxModel",
          "model_module_version": "1.5.0",
          "state": {
            "_dom_classes": [],
            "_model_module": "@jupyter-widgets/controls",
            "_model_module_version": "1.5.0",
            "_model_name": "HBoxModel",
            "_view_count": null,
            "_view_module": "@jupyter-widgets/controls",
            "_view_module_version": "1.5.0",
            "_view_name": "HBoxView",
            "box_style": "",
            "children": [
              "IPY_MODEL_88589ab667084ea5b1fb2eb0643f0f93",
              "IPY_MODEL_f8d982dc0ab8417e812b9c045c6e2675",
              "IPY_MODEL_e83f0f4115af4e839d43773cb3fd29a8"
            ],
            "layout": "IPY_MODEL_55c554e012ff467b9405ddfcec0d22a7"
          }
        },
        "88589ab667084ea5b1fb2eb0643f0f93": {
          "model_module": "@jupyter-widgets/controls",
          "model_name": "HTMLModel",
          "model_module_version": "1.5.0",
          "state": {
            "_dom_classes": [],
            "_model_module": "@jupyter-widgets/controls",
            "_model_module_version": "1.5.0",
            "_model_name": "HTMLModel",
            "_view_count": null,
            "_view_module": "@jupyter-widgets/controls",
            "_view_module_version": "1.5.0",
            "_view_name": "HTMLView",
            "description": "",
            "description_tooltip": null,
            "layout": "IPY_MODEL_4703e47b896347a2b10a9584bfeb76b1",
            "placeholder": "​",
            "style": "IPY_MODEL_4486acd034e345ea8b2f21570f0e0440",
            "value": "config.json: 100%"
          }
        },
        "f8d982dc0ab8417e812b9c045c6e2675": {
          "model_module": "@jupyter-widgets/controls",
          "model_name": "FloatProgressModel",
          "model_module_version": "1.5.0",
          "state": {
            "_dom_classes": [],
            "_model_module": "@jupyter-widgets/controls",
            "_model_module_version": "1.5.0",
            "_model_name": "FloatProgressModel",
            "_view_count": null,
            "_view_module": "@jupyter-widgets/controls",
            "_view_module_version": "1.5.0",
            "_view_name": "ProgressView",
            "bar_style": "success",
            "description": "",
            "description_tooltip": null,
            "layout": "IPY_MODEL_5ffc8c8a06bc425c8d8209d2a916f92d",
            "max": 1030,
            "min": 0,
            "orientation": "horizontal",
            "style": "IPY_MODEL_d5f6739270fa469f9bc1db866a1ec173",
            "value": 1030
          }
        },
        "e83f0f4115af4e839d43773cb3fd29a8": {
          "model_module": "@jupyter-widgets/controls",
          "model_name": "HTMLModel",
          "model_module_version": "1.5.0",
          "state": {
            "_dom_classes": [],
            "_model_module": "@jupyter-widgets/controls",
            "_model_module_version": "1.5.0",
            "_model_name": "HTMLModel",
            "_view_count": null,
            "_view_module": "@jupyter-widgets/controls",
            "_view_module_version": "1.5.0",
            "_view_name": "HTMLView",
            "description": "",
            "description_tooltip": null,
            "layout": "IPY_MODEL_061c7b3e0857426396d02d2b4e7d82aa",
            "placeholder": "​",
            "style": "IPY_MODEL_d95450a03fcc4193a36e4283a6d58292",
            "value": " 1.03k/1.03k [00:00&lt;00:00, 44.6kB/s]"
          }
        },
        "55c554e012ff467b9405ddfcec0d22a7": {
          "model_module": "@jupyter-widgets/base",
          "model_name": "LayoutModel",
          "model_module_version": "1.2.0",
          "state": {
            "_model_module": "@jupyter-widgets/base",
            "_model_module_version": "1.2.0",
            "_model_name": "LayoutModel",
            "_view_count": null,
            "_view_module": "@jupyter-widgets/base",
            "_view_module_version": "1.2.0",
            "_view_name": "LayoutView",
            "align_content": null,
            "align_items": null,
            "align_self": null,
            "border": null,
            "bottom": null,
            "display": null,
            "flex": null,
            "flex_flow": null,
            "grid_area": null,
            "grid_auto_columns": null,
            "grid_auto_flow": null,
            "grid_auto_rows": null,
            "grid_column": null,
            "grid_gap": null,
            "grid_row": null,
            "grid_template_areas": null,
            "grid_template_columns": null,
            "grid_template_rows": null,
            "height": null,
            "justify_content": null,
            "justify_items": null,
            "left": null,
            "margin": null,
            "max_height": null,
            "max_width": null,
            "min_height": null,
            "min_width": null,
            "object_fit": null,
            "object_position": null,
            "order": null,
            "overflow": null,
            "overflow_x": null,
            "overflow_y": null,
            "padding": null,
            "right": null,
            "top": null,
            "visibility": null,
            "width": null
          }
        },
        "4703e47b896347a2b10a9584bfeb76b1": {
          "model_module": "@jupyter-widgets/base",
          "model_name": "LayoutModel",
          "model_module_version": "1.2.0",
          "state": {
            "_model_module": "@jupyter-widgets/base",
            "_model_module_version": "1.2.0",
            "_model_name": "LayoutModel",
            "_view_count": null,
            "_view_module": "@jupyter-widgets/base",
            "_view_module_version": "1.2.0",
            "_view_name": "LayoutView",
            "align_content": null,
            "align_items": null,
            "align_self": null,
            "border": null,
            "bottom": null,
            "display": null,
            "flex": null,
            "flex_flow": null,
            "grid_area": null,
            "grid_auto_columns": null,
            "grid_auto_flow": null,
            "grid_auto_rows": null,
            "grid_column": null,
            "grid_gap": null,
            "grid_row": null,
            "grid_template_areas": null,
            "grid_template_columns": null,
            "grid_template_rows": null,
            "height": null,
            "justify_content": null,
            "justify_items": null,
            "left": null,
            "margin": null,
            "max_height": null,
            "max_width": null,
            "min_height": null,
            "min_width": null,
            "object_fit": null,
            "object_position": null,
            "order": null,
            "overflow": null,
            "overflow_x": null,
            "overflow_y": null,
            "padding": null,
            "right": null,
            "top": null,
            "visibility": null,
            "width": null
          }
        },
        "4486acd034e345ea8b2f21570f0e0440": {
          "model_module": "@jupyter-widgets/controls",
          "model_name": "DescriptionStyleModel",
          "model_module_version": "1.5.0",
          "state": {
            "_model_module": "@jupyter-widgets/controls",
            "_model_module_version": "1.5.0",
            "_model_name": "DescriptionStyleModel",
            "_view_count": null,
            "_view_module": "@jupyter-widgets/base",
            "_view_module_version": "1.2.0",
            "_view_name": "StyleView",
            "description_width": ""
          }
        },
        "5ffc8c8a06bc425c8d8209d2a916f92d": {
          "model_module": "@jupyter-widgets/base",
          "model_name": "LayoutModel",
          "model_module_version": "1.2.0",
          "state": {
            "_model_module": "@jupyter-widgets/base",
            "_model_module_version": "1.2.0",
            "_model_name": "LayoutModel",
            "_view_count": null,
            "_view_module": "@jupyter-widgets/base",
            "_view_module_version": "1.2.0",
            "_view_name": "LayoutView",
            "align_content": null,
            "align_items": null,
            "align_self": null,
            "border": null,
            "bottom": null,
            "display": null,
            "flex": null,
            "flex_flow": null,
            "grid_area": null,
            "grid_auto_columns": null,
            "grid_auto_flow": null,
            "grid_auto_rows": null,
            "grid_column": null,
            "grid_gap": null,
            "grid_row": null,
            "grid_template_areas": null,
            "grid_template_columns": null,
            "grid_template_rows": null,
            "height": null,
            "justify_content": null,
            "justify_items": null,
            "left": null,
            "margin": null,
            "max_height": null,
            "max_width": null,
            "min_height": null,
            "min_width": null,
            "object_fit": null,
            "object_position": null,
            "order": null,
            "overflow": null,
            "overflow_x": null,
            "overflow_y": null,
            "padding": null,
            "right": null,
            "top": null,
            "visibility": null,
            "width": null
          }
        },
        "d5f6739270fa469f9bc1db866a1ec173": {
          "model_module": "@jupyter-widgets/controls",
          "model_name": "ProgressStyleModel",
          "model_module_version": "1.5.0",
          "state": {
            "_model_module": "@jupyter-widgets/controls",
            "_model_module_version": "1.5.0",
            "_model_name": "ProgressStyleModel",
            "_view_count": null,
            "_view_module": "@jupyter-widgets/base",
            "_view_module_version": "1.2.0",
            "_view_name": "StyleView",
            "bar_color": null,
            "description_width": ""
          }
        },
        "061c7b3e0857426396d02d2b4e7d82aa": {
          "model_module": "@jupyter-widgets/base",
          "model_name": "LayoutModel",
          "model_module_version": "1.2.0",
          "state": {
            "_model_module": "@jupyter-widgets/base",
            "_model_module_version": "1.2.0",
            "_model_name": "LayoutModel",
            "_view_count": null,
            "_view_module": "@jupyter-widgets/base",
            "_view_module_version": "1.2.0",
            "_view_name": "LayoutView",
            "align_content": null,
            "align_items": null,
            "align_self": null,
            "border": null,
            "bottom": null,
            "display": null,
            "flex": null,
            "flex_flow": null,
            "grid_area": null,
            "grid_auto_columns": null,
            "grid_auto_flow": null,
            "grid_auto_rows": null,
            "grid_column": null,
            "grid_gap": null,
            "grid_row": null,
            "grid_template_areas": null,
            "grid_template_columns": null,
            "grid_template_rows": null,
            "height": null,
            "justify_content": null,
            "justify_items": null,
            "left": null,
            "margin": null,
            "max_height": null,
            "max_width": null,
            "min_height": null,
            "min_width": null,
            "object_fit": null,
            "object_position": null,
            "order": null,
            "overflow": null,
            "overflow_x": null,
            "overflow_y": null,
            "padding": null,
            "right": null,
            "top": null,
            "visibility": null,
            "width": null
          }
        },
        "d95450a03fcc4193a36e4283a6d58292": {
          "model_module": "@jupyter-widgets/controls",
          "model_name": "DescriptionStyleModel",
          "model_module_version": "1.5.0",
          "state": {
            "_model_module": "@jupyter-widgets/controls",
            "_model_module_version": "1.5.0",
            "_model_name": "DescriptionStyleModel",
            "_view_count": null,
            "_view_module": "@jupyter-widgets/base",
            "_view_module_version": "1.2.0",
            "_view_name": "StyleView",
            "description_width": ""
          }
        },
        "40277e9cffa248149ac11990340c341c": {
          "model_module": "@jupyter-widgets/controls",
          "model_name": "HBoxModel",
          "model_module_version": "1.5.0",
          "state": {
            "_dom_classes": [],
            "_model_module": "@jupyter-widgets/controls",
            "_model_module_version": "1.5.0",
            "_model_name": "HBoxModel",
            "_view_count": null,
            "_view_module": "@jupyter-widgets/controls",
            "_view_module_version": "1.5.0",
            "_view_name": "HBoxView",
            "box_style": "",
            "children": [
              "IPY_MODEL_c870aec7d38246008199c0e541c03e80",
              "IPY_MODEL_8ced3207323442b2ab1b6e74ae1f9db4",
              "IPY_MODEL_1fee475e4fac41288f9016b9c38fff2a"
            ],
            "layout": "IPY_MODEL_8cd20cba2e8740fa8c1e1c55e13b1d93"
          }
        },
        "c870aec7d38246008199c0e541c03e80": {
          "model_module": "@jupyter-widgets/controls",
          "model_name": "HTMLModel",
          "model_module_version": "1.5.0",
          "state": {
            "_dom_classes": [],
            "_model_module": "@jupyter-widgets/controls",
            "_model_module_version": "1.5.0",
            "_model_name": "HTMLModel",
            "_view_count": null,
            "_view_module": "@jupyter-widgets/controls",
            "_view_module_version": "1.5.0",
            "_view_name": "HTMLView",
            "description": "",
            "description_tooltip": null,
            "layout": "IPY_MODEL_3f82f7ffc8574bce99278f44ad361614",
            "placeholder": "​",
            "style": "IPY_MODEL_217e543faf7f42d68cf31892a0e78529",
            "value": "pytorch_model.bin: 100%"
          }
        },
        "8ced3207323442b2ab1b6e74ae1f9db4": {
          "model_module": "@jupyter-widgets/controls",
          "model_name": "FloatProgressModel",
          "model_module_version": "1.5.0",
          "state": {
            "_dom_classes": [],
            "_model_module": "@jupyter-widgets/controls",
            "_model_module_version": "1.5.0",
            "_model_name": "FloatProgressModel",
            "_view_count": null,
            "_view_module": "@jupyter-widgets/controls",
            "_view_module_version": "1.5.0",
            "_view_name": "ProgressView",
            "bar_style": "success",
            "description": "",
            "description_tooltip": null,
            "layout": "IPY_MODEL_aa9ab2e224854f6f9afdd207f50b4f51",
            "max": 368515095,
            "min": 0,
            "orientation": "horizontal",
            "style": "IPY_MODEL_be002f6c2124448e844c2036e552d33e",
            "value": 368515095
          }
        },
        "1fee475e4fac41288f9016b9c38fff2a": {
          "model_module": "@jupyter-widgets/controls",
          "model_name": "HTMLModel",
          "model_module_version": "1.5.0",
          "state": {
            "_dom_classes": [],
            "_model_module": "@jupyter-widgets/controls",
            "_model_module_version": "1.5.0",
            "_model_name": "HTMLModel",
            "_view_count": null,
            "_view_module": "@jupyter-widgets/controls",
            "_view_module_version": "1.5.0",
            "_view_name": "HTMLView",
            "description": "",
            "description_tooltip": null,
            "layout": "IPY_MODEL_e810f13149af49f682c5c715e0752f0d",
            "placeholder": "​",
            "style": "IPY_MODEL_3c5259b6ce0546bbbacca1cb879c9c19",
            "value": " 369M/369M [00:06&lt;00:00, 59.4MB/s]"
          }
        },
        "8cd20cba2e8740fa8c1e1c55e13b1d93": {
          "model_module": "@jupyter-widgets/base",
          "model_name": "LayoutModel",
          "model_module_version": "1.2.0",
          "state": {
            "_model_module": "@jupyter-widgets/base",
            "_model_module_version": "1.2.0",
            "_model_name": "LayoutModel",
            "_view_count": null,
            "_view_module": "@jupyter-widgets/base",
            "_view_module_version": "1.2.0",
            "_view_name": "LayoutView",
            "align_content": null,
            "align_items": null,
            "align_self": null,
            "border": null,
            "bottom": null,
            "display": null,
            "flex": null,
            "flex_flow": null,
            "grid_area": null,
            "grid_auto_columns": null,
            "grid_auto_flow": null,
            "grid_auto_rows": null,
            "grid_column": null,
            "grid_gap": null,
            "grid_row": null,
            "grid_template_areas": null,
            "grid_template_columns": null,
            "grid_template_rows": null,
            "height": null,
            "justify_content": null,
            "justify_items": null,
            "left": null,
            "margin": null,
            "max_height": null,
            "max_width": null,
            "min_height": null,
            "min_width": null,
            "object_fit": null,
            "object_position": null,
            "order": null,
            "overflow": null,
            "overflow_x": null,
            "overflow_y": null,
            "padding": null,
            "right": null,
            "top": null,
            "visibility": null,
            "width": null
          }
        },
        "3f82f7ffc8574bce99278f44ad361614": {
          "model_module": "@jupyter-widgets/base",
          "model_name": "LayoutModel",
          "model_module_version": "1.2.0",
          "state": {
            "_model_module": "@jupyter-widgets/base",
            "_model_module_version": "1.2.0",
            "_model_name": "LayoutModel",
            "_view_count": null,
            "_view_module": "@jupyter-widgets/base",
            "_view_module_version": "1.2.0",
            "_view_name": "LayoutView",
            "align_content": null,
            "align_items": null,
            "align_self": null,
            "border": null,
            "bottom": null,
            "display": null,
            "flex": null,
            "flex_flow": null,
            "grid_area": null,
            "grid_auto_columns": null,
            "grid_auto_flow": null,
            "grid_auto_rows": null,
            "grid_column": null,
            "grid_gap": null,
            "grid_row": null,
            "grid_template_areas": null,
            "grid_template_columns": null,
            "grid_template_rows": null,
            "height": null,
            "justify_content": null,
            "justify_items": null,
            "left": null,
            "margin": null,
            "max_height": null,
            "max_width": null,
            "min_height": null,
            "min_width": null,
            "object_fit": null,
            "object_position": null,
            "order": null,
            "overflow": null,
            "overflow_x": null,
            "overflow_y": null,
            "padding": null,
            "right": null,
            "top": null,
            "visibility": null,
            "width": null
          }
        },
        "217e543faf7f42d68cf31892a0e78529": {
          "model_module": "@jupyter-widgets/controls",
          "model_name": "DescriptionStyleModel",
          "model_module_version": "1.5.0",
          "state": {
            "_model_module": "@jupyter-widgets/controls",
            "_model_module_version": "1.5.0",
            "_model_name": "DescriptionStyleModel",
            "_view_count": null,
            "_view_module": "@jupyter-widgets/base",
            "_view_module_version": "1.2.0",
            "_view_name": "StyleView",
            "description_width": ""
          }
        },
        "aa9ab2e224854f6f9afdd207f50b4f51": {
          "model_module": "@jupyter-widgets/base",
          "model_name": "LayoutModel",
          "model_module_version": "1.2.0",
          "state": {
            "_model_module": "@jupyter-widgets/base",
            "_model_module_version": "1.2.0",
            "_model_name": "LayoutModel",
            "_view_count": null,
            "_view_module": "@jupyter-widgets/base",
            "_view_module_version": "1.2.0",
            "_view_name": "LayoutView",
            "align_content": null,
            "align_items": null,
            "align_self": null,
            "border": null,
            "bottom": null,
            "display": null,
            "flex": null,
            "flex_flow": null,
            "grid_area": null,
            "grid_auto_columns": null,
            "grid_auto_flow": null,
            "grid_auto_rows": null,
            "grid_column": null,
            "grid_gap": null,
            "grid_row": null,
            "grid_template_areas": null,
            "grid_template_columns": null,
            "grid_template_rows": null,
            "height": null,
            "justify_content": null,
            "justify_items": null,
            "left": null,
            "margin": null,
            "max_height": null,
            "max_width": null,
            "min_height": null,
            "min_width": null,
            "object_fit": null,
            "object_position": null,
            "order": null,
            "overflow": null,
            "overflow_x": null,
            "overflow_y": null,
            "padding": null,
            "right": null,
            "top": null,
            "visibility": null,
            "width": null
          }
        },
        "be002f6c2124448e844c2036e552d33e": {
          "model_module": "@jupyter-widgets/controls",
          "model_name": "ProgressStyleModel",
          "model_module_version": "1.5.0",
          "state": {
            "_model_module": "@jupyter-widgets/controls",
            "_model_module_version": "1.5.0",
            "_model_name": "ProgressStyleModel",
            "_view_count": null,
            "_view_module": "@jupyter-widgets/base",
            "_view_module_version": "1.2.0",
            "_view_name": "StyleView",
            "bar_color": null,
            "description_width": ""
          }
        },
        "e810f13149af49f682c5c715e0752f0d": {
          "model_module": "@jupyter-widgets/base",
          "model_name": "LayoutModel",
          "model_module_version": "1.2.0",
          "state": {
            "_model_module": "@jupyter-widgets/base",
            "_model_module_version": "1.2.0",
            "_model_name": "LayoutModel",
            "_view_count": null,
            "_view_module": "@jupyter-widgets/base",
            "_view_module_version": "1.2.0",
            "_view_name": "LayoutView",
            "align_content": null,
            "align_items": null,
            "align_self": null,
            "border": null,
            "bottom": null,
            "display": null,
            "flex": null,
            "flex_flow": null,
            "grid_area": null,
            "grid_auto_columns": null,
            "grid_auto_flow": null,
            "grid_auto_rows": null,
            "grid_column": null,
            "grid_gap": null,
            "grid_row": null,
            "grid_template_areas": null,
            "grid_template_columns": null,
            "grid_template_rows": null,
            "height": null,
            "justify_content": null,
            "justify_items": null,
            "left": null,
            "margin": null,
            "max_height": null,
            "max_width": null,
            "min_height": null,
            "min_width": null,
            "object_fit": null,
            "object_position": null,
            "order": null,
            "overflow": null,
            "overflow_x": null,
            "overflow_y": null,
            "padding": null,
            "right": null,
            "top": null,
            "visibility": null,
            "width": null
          }
        },
        "3c5259b6ce0546bbbacca1cb879c9c19": {
          "model_module": "@jupyter-widgets/controls",
          "model_name": "DescriptionStyleModel",
          "model_module_version": "1.5.0",
          "state": {
            "_model_module": "@jupyter-widgets/controls",
            "_model_module_version": "1.5.0",
            "_model_name": "DescriptionStyleModel",
            "_view_count": null,
            "_view_module": "@jupyter-widgets/base",
            "_view_module_version": "1.2.0",
            "_view_name": "StyleView",
            "description_width": ""
          }
        }
      }
    }
  },
  "cells": [
    {
      "cell_type": "markdown",
      "metadata": {
        "id": "view-in-github",
        "colab_type": "text"
      },
      "source": [
        "<a href=\"https://colab.research.google.com/github/sid-betalol/Document-Classification-Models/blob/main/DiT_finetuning_rvlcdip.ipynb\" target=\"_parent\"><img src=\"https://colab.research.google.com/assets/colab-badge.svg\" alt=\"Open In Colab\"/></a>"
      ]
    },
    {
      "cell_type": "code",
      "source": [
        "# !pip install transformers[torch] -U\n",
        "# !pip install datasets"
      ],
      "metadata": {
        "id": "2VXU12ouH5bf"
      },
      "execution_count": null,
      "outputs": []
    },
    {
      "cell_type": "code",
      "source": [
        "import numpy as np\n",
        "import torch\n",
        "from datasets import load_dataset\n",
        "from transformers import AutoModelForImageClassification, AutoFeatureExtractor, TrainingArguments, Trainer\n",
        "from sklearn.metrics import classification_report, confusion_matrix, accuracy_score, precision_recall_fscore_support\n",
        "from torch.utils.data import Dataset, DataLoader\n",
        "from PIL import Image\n",
        "import io\n",
        "import seaborn as sns\n",
        "import matplotlib.pyplot as plt\n",
        "from torch.utils.data import IterableDataset\n",
        "import os"
      ],
      "metadata": {
        "id": "5YAsq-7VfDkj"
      },
      "execution_count": 11,
      "outputs": []
    },
    {
      "cell_type": "code",
      "source": [
        "from google.colab import drive\n",
        "drive.mount('/content/drive')"
      ],
      "metadata": {
        "colab": {
          "base_uri": "https://localhost:8080/"
        },
        "id": "BzTCkhPtAd56",
        "outputId": "31df4920-7e0a-40de-a695-0bc69ce70748"
      },
      "execution_count": 3,
      "outputs": [
        {
          "output_type": "stream",
          "name": "stdout",
          "text": [
            "Mounted at /content/drive\n"
          ]
        }
      ]
    },
    {
      "cell_type": "code",
      "source": [
        "task = 'rvl-cdip'"
      ],
      "metadata": {
        "id": "027c81c7Do4N"
      },
      "execution_count": 4,
      "outputs": []
    },
    {
      "cell_type": "code",
      "source": [
        "torch.manual_seed(42)\n",
        "np.random.seed(42)"
      ],
      "metadata": {
        "id": "rWjSbGZ4AA07"
      },
      "execution_count": 5,
      "outputs": []
    },
    {
      "cell_type": "code",
      "source": [
        "num_labels = 16"
      ],
      "metadata": {
        "id": "T7XPPtXgACbO"
      },
      "execution_count": 6,
      "outputs": []
    },
    {
      "cell_type": "code",
      "source": [
        "train_data_dir = f\"/content/drive/MyDrive/rvl-cdip-pp/DiT/{task}/train_data\"\n",
        "eval_data_dir = f\"/content/drive/MyDrive/rvl-cdip-pp/DiT/{task}/eval_data\""
      ],
      "metadata": {
        "id": "rrjW-lY-WTM8"
      },
      "execution_count": 7,
      "outputs": []
    },
    {
      "cell_type": "code",
      "source": [
        "class PreprocessedDataset(Dataset):\n",
        "    def __init__(self, data_dir):\n",
        "        self.data_files = [os.path.join(data_dir, f) for f in os.listdir(data_dir) if f.endswith('.pt')]\n",
        "\n",
        "    def __len__(self):\n",
        "        return len(self.data_files)\n",
        "\n",
        "    def __getitem__(self, idx):\n",
        "        pixel_values, label = torch.load(self.data_files[idx])\n",
        "        return {\"pixel_values\": pixel_values, \"labels\": label}"
      ],
      "metadata": {
        "id": "AZlLOYapXmtD"
      },
      "execution_count": 8,
      "outputs": []
    },
    {
      "cell_type": "code",
      "source": [
        "train_dataset = PreprocessedDataset(train_data_dir)\n",
        "eval_dataset = PreprocessedDataset(eval_data_dir)"
      ],
      "metadata": {
        "id": "SjpDy4vyXqxj"
      },
      "execution_count": 12,
      "outputs": []
    },
    {
      "cell_type": "code",
      "source": [
        "model = AutoModelForImageClassification.from_pretrained(\"microsoft/dit-base\", num_labels=num_labels)"
      ],
      "metadata": {
        "colab": {
          "base_uri": "https://localhost:8080/",
          "height": 269,
          "referenced_widgets": [
            "7b1fed2a1f3a4a99b08647b477c59bfe",
            "88589ab667084ea5b1fb2eb0643f0f93",
            "f8d982dc0ab8417e812b9c045c6e2675",
            "e83f0f4115af4e839d43773cb3fd29a8",
            "55c554e012ff467b9405ddfcec0d22a7",
            "4703e47b896347a2b10a9584bfeb76b1",
            "4486acd034e345ea8b2f21570f0e0440",
            "5ffc8c8a06bc425c8d8209d2a916f92d",
            "d5f6739270fa469f9bc1db866a1ec173",
            "061c7b3e0857426396d02d2b4e7d82aa",
            "d95450a03fcc4193a36e4283a6d58292",
            "40277e9cffa248149ac11990340c341c",
            "c870aec7d38246008199c0e541c03e80",
            "8ced3207323442b2ab1b6e74ae1f9db4",
            "1fee475e4fac41288f9016b9c38fff2a",
            "8cd20cba2e8740fa8c1e1c55e13b1d93",
            "3f82f7ffc8574bce99278f44ad361614",
            "217e543faf7f42d68cf31892a0e78529",
            "aa9ab2e224854f6f9afdd207f50b4f51",
            "be002f6c2124448e844c2036e552d33e",
            "e810f13149af49f682c5c715e0752f0d",
            "3c5259b6ce0546bbbacca1cb879c9c19"
          ]
        },
        "id": "FubElu_HATLI",
        "outputId": "5792e4f8-6042-437f-f6f0-fafde64f049a"
      },
      "execution_count": 13,
      "outputs": [
        {
          "output_type": "stream",
          "name": "stderr",
          "text": [
            "/usr/local/lib/python3.10/dist-packages/huggingface_hub/utils/_token.py:88: UserWarning: \n",
            "The secret `HF_TOKEN` does not exist in your Colab secrets.\n",
            "To authenticate with the Hugging Face Hub, create a token in your settings tab (https://huggingface.co/settings/tokens), set it as secret in your Google Colab and restart your session.\n",
            "You will be able to reuse this secret in all of your notebooks.\n",
            "Please note that authentication is recommended but still optional to access public models or datasets.\n",
            "  warnings.warn(\n"
          ]
        },
        {
          "output_type": "display_data",
          "data": {
            "text/plain": [
              "config.json:   0%|          | 0.00/1.03k [00:00<?, ?B/s]"
            ],
            "application/vnd.jupyter.widget-view+json": {
              "version_major": 2,
              "version_minor": 0,
              "model_id": "7b1fed2a1f3a4a99b08647b477c59bfe"
            }
          },
          "metadata": {}
        },
        {
          "output_type": "display_data",
          "data": {
            "text/plain": [
              "pytorch_model.bin:   0%|          | 0.00/369M [00:00<?, ?B/s]"
            ],
            "application/vnd.jupyter.widget-view+json": {
              "version_major": 2,
              "version_minor": 0,
              "model_id": "40277e9cffa248149ac11990340c341c"
            }
          },
          "metadata": {}
        },
        {
          "output_type": "stream",
          "name": "stderr",
          "text": [
            "/usr/local/lib/python3.10/dist-packages/torch/_utils.py:831: UserWarning: TypedStorage is deprecated. It will be removed in the future and UntypedStorage will be the only storage class. This should only matter to you if you are using storages directly.  To access UntypedStorage directly, use tensor.untyped_storage() instead of tensor.storage()\n",
            "  return self.fget.__get__(instance, owner)()\n",
            "Some weights of BeitForImageClassification were not initialized from the model checkpoint at microsoft/dit-base and are newly initialized: ['beit.pooler.layernorm.bias', 'beit.pooler.layernorm.weight', 'classifier.bias', 'classifier.weight']\n",
            "You should probably TRAIN this model on a down-stream task to be able to use it for predictions and inference.\n"
          ]
        }
      ]
    },
    {
      "cell_type": "code",
      "source": [
        "def compute_metrics(eval_pred):\n",
        "    logits, labels = eval_pred\n",
        "    predictions = np.argmax(logits, axis=-1)\n",
        "    precision, recall, f1, _ = precision_recall_fscore_support(labels, predictions, average='weighted')\n",
        "    acc = accuracy_score(labels, predictions)\n",
        "    # Optionally print a classification report here or save it to a file\n",
        "    report = classification_report(labels, predictions, target_names=[f'Class {i}' for i in range(num_labels)], digits=4)\n",
        "    print(report)\n",
        "    return {\n",
        "        'accuracy': acc,\n",
        "        'f1': f1,\n",
        "        'precision': precision,\n",
        "        'recall': recall\n",
        "    }"
      ],
      "metadata": {
        "id": "jE54_7ivAWFQ"
      },
      "execution_count": 14,
      "outputs": []
    },
    {
      "cell_type": "code",
      "source": [
        "training_args = TrainingArguments(\n",
        "    output_dir=f\"/content/drive/MyDrive/rvl-cdip-pp/DiT/{task}/results\",\n",
        "    num_train_epochs=3,\n",
        "    per_device_train_batch_size=8,\n",
        "    per_device_eval_batch_size=8,\n",
        "    warmup_steps=500,\n",
        "    weight_decay=0.01,\n",
        "    logging_dir=f\"/content/drive/MyDrive/rvl-cdip-pp/DiT/{task}/logs\",\n",
        "    logging_steps=10,\n",
        "    evaluation_strategy=\"epoch\",\n",
        "    # Since we're aiming for 3 epochs, max_steps might not be necessary here\n",
        "    # but if you choose to use it, set max_steps=600\n",
        "    max_steps=1000  # Optional based on the above explanation\n",
        ")"
      ],
      "metadata": {
        "id": "Dpca10QYAxCM"
      },
      "execution_count": 15,
      "outputs": []
    },
    {
      "cell_type": "code",
      "source": [
        "trainer = Trainer(\n",
        "    model=model,\n",
        "    args=training_args,\n",
        "    train_dataset=train_dataset,\n",
        "    eval_dataset=eval_dataset,\n",
        "    compute_metrics=compute_metrics,\n",
        ")"
      ],
      "metadata": {
        "id": "dqM2a5kMA0TB"
      },
      "execution_count": 16,
      "outputs": []
    },
    {
      "cell_type": "code",
      "source": [
        "trainer.train()"
      ],
      "metadata": {
        "colab": {
          "base_uri": "https://localhost:8080/",
          "height": 1000
        },
        "id": "33bh-_Y5A2Mg",
        "outputId": "da5b22e7-0f9f-4c8b-c532-74e15f7c31ab"
      },
      "execution_count": 17,
      "outputs": [
        {
          "output_type": "display_data",
          "data": {
            "text/plain": [
              "<IPython.core.display.HTML object>"
            ],
            "text/html": [
              "\n",
              "    <div>\n",
              "      \n",
              "      <progress value='1000' max='1000' style='width:300px; height:20px; vertical-align: middle;'></progress>\n",
              "      [1000/1000 09:36, Epoch 5/5]\n",
              "    </div>\n",
              "    <table border=\"1\" class=\"dataframe\">\n",
              "  <thead>\n",
              " <tr style=\"text-align: left;\">\n",
              "      <th>Epoch</th>\n",
              "      <th>Training Loss</th>\n",
              "      <th>Validation Loss</th>\n",
              "      <th>Accuracy</th>\n",
              "      <th>F1</th>\n",
              "      <th>Precision</th>\n",
              "      <th>Recall</th>\n",
              "    </tr>\n",
              "  </thead>\n",
              "  <tbody>\n",
              "    <tr>\n",
              "      <td>1</td>\n",
              "      <td>2.038400</td>\n",
              "      <td>2.035115</td>\n",
              "      <td>0.318750</td>\n",
              "      <td>0.260907</td>\n",
              "      <td>0.316613</td>\n",
              "      <td>0.318750</td>\n",
              "    </tr>\n",
              "    <tr>\n",
              "      <td>2</td>\n",
              "      <td>1.482100</td>\n",
              "      <td>1.191417</td>\n",
              "      <td>0.681250</td>\n",
              "      <td>0.653108</td>\n",
              "      <td>0.647458</td>\n",
              "      <td>0.681250</td>\n",
              "    </tr>\n",
              "    <tr>\n",
              "      <td>3</td>\n",
              "      <td>0.848200</td>\n",
              "      <td>0.921614</td>\n",
              "      <td>0.750000</td>\n",
              "      <td>0.730305</td>\n",
              "      <td>0.749098</td>\n",
              "      <td>0.750000</td>\n",
              "    </tr>\n",
              "    <tr>\n",
              "      <td>4</td>\n",
              "      <td>0.557700</td>\n",
              "      <td>0.867747</td>\n",
              "      <td>0.762500</td>\n",
              "      <td>0.757560</td>\n",
              "      <td>0.770637</td>\n",
              "      <td>0.762500</td>\n",
              "    </tr>\n",
              "    <tr>\n",
              "      <td>5</td>\n",
              "      <td>0.339800</td>\n",
              "      <td>0.876207</td>\n",
              "      <td>0.800000</td>\n",
              "      <td>0.798871</td>\n",
              "      <td>0.810164</td>\n",
              "      <td>0.800000</td>\n",
              "    </tr>\n",
              "  </tbody>\n",
              "</table><p>"
            ]
          },
          "metadata": {}
        },
        {
          "output_type": "stream",
          "name": "stdout",
          "text": [
            "              precision    recall  f1-score   support\n",
            "\n",
            "     Class 0     0.0000    0.0000    0.0000        10\n",
            "     Class 1     0.0000    0.0000    0.0000        10\n",
            "     Class 2     0.2857    0.8000    0.4211        10\n",
            "     Class 3     1.0000    0.4000    0.5714        10\n",
            "     Class 4     0.4667    0.7000    0.5600        10\n",
            "     Class 5     0.0000    0.0000    0.0000        10\n",
            "     Class 6     0.4737    0.9000    0.6207        10\n",
            "     Class 7     0.0000    0.0000    0.0000        10\n",
            "     Class 8     1.0000    0.3000    0.4615        10\n",
            "     Class 9     0.3636    0.4000    0.3810        10\n",
            "    Class 10     0.5000    0.2000    0.2857        10\n",
            "    Class 11     0.4286    0.3000    0.3529        10\n",
            "    Class 12     0.0000    0.0000    0.0000        10\n",
            "    Class 13     0.1475    0.9000    0.2535        10\n",
            "    Class 14     0.0000    0.0000    0.0000        10\n",
            "    Class 15     0.4000    0.2000    0.2667        10\n",
            "\n",
            "    accuracy                         0.3187       160\n",
            "   macro avg     0.3166    0.3187    0.2609       160\n",
            "weighted avg     0.3166    0.3187    0.2609       160\n",
            "\n"
          ]
        },
        {
          "output_type": "stream",
          "name": "stderr",
          "text": [
            "/usr/local/lib/python3.10/dist-packages/sklearn/metrics/_classification.py:1344: UndefinedMetricWarning: Precision and F-score are ill-defined and being set to 0.0 in labels with no predicted samples. Use `zero_division` parameter to control this behavior.\n",
            "  _warn_prf(average, modifier, msg_start, len(result))\n",
            "/usr/local/lib/python3.10/dist-packages/sklearn/metrics/_classification.py:1344: UndefinedMetricWarning: Precision and F-score are ill-defined and being set to 0.0 in labels with no predicted samples. Use `zero_division` parameter to control this behavior.\n",
            "  _warn_prf(average, modifier, msg_start, len(result))\n",
            "/usr/local/lib/python3.10/dist-packages/sklearn/metrics/_classification.py:1344: UndefinedMetricWarning: Precision and F-score are ill-defined and being set to 0.0 in labels with no predicted samples. Use `zero_division` parameter to control this behavior.\n",
            "  _warn_prf(average, modifier, msg_start, len(result))\n",
            "/usr/local/lib/python3.10/dist-packages/sklearn/metrics/_classification.py:1344: UndefinedMetricWarning: Precision and F-score are ill-defined and being set to 0.0 in labels with no predicted samples. Use `zero_division` parameter to control this behavior.\n",
            "  _warn_prf(average, modifier, msg_start, len(result))\n"
          ]
        },
        {
          "output_type": "stream",
          "name": "stdout",
          "text": [
            "              precision    recall  f1-score   support\n",
            "\n",
            "     Class 0     0.7778    0.7000    0.7368        10\n",
            "     Class 1     0.4444    0.4000    0.4211        10\n",
            "     Class 2     0.9000    0.9000    0.9000        10\n",
            "     Class 3     0.9000    0.9000    0.9000        10\n",
            "     Class 4     0.8000    0.8000    0.8000        10\n",
            "     Class 5     0.0000    0.0000    0.0000        10\n",
            "     Class 6     0.9091    1.0000    0.9524        10\n",
            "     Class 7     0.6667    0.4000    0.5000        10\n",
            "     Class 8     0.9091    1.0000    0.9524        10\n",
            "     Class 9     0.6154    0.8000    0.6957        10\n",
            "    Class 10     0.3333    0.2000    0.2500        10\n",
            "    Class 11     0.5385    0.7000    0.6087        10\n",
            "    Class 12     0.7000    0.7000    0.7000        10\n",
            "    Class 13     0.8889    0.8000    0.8421        10\n",
            "    Class 14     0.5000    0.6000    0.5455        10\n",
            "    Class 15     0.4762    1.0000    0.6452        10\n",
            "\n",
            "    accuracy                         0.6813       160\n",
            "   macro avg     0.6475    0.6813    0.6531       160\n",
            "weighted avg     0.6475    0.6813    0.6531       160\n",
            "\n"
          ]
        },
        {
          "output_type": "stream",
          "name": "stderr",
          "text": [
            "/usr/local/lib/python3.10/dist-packages/sklearn/metrics/_classification.py:1344: UndefinedMetricWarning: Precision and F-score are ill-defined and being set to 0.0 in labels with no predicted samples. Use `zero_division` parameter to control this behavior.\n",
            "  _warn_prf(average, modifier, msg_start, len(result))\n",
            "/usr/local/lib/python3.10/dist-packages/sklearn/metrics/_classification.py:1344: UndefinedMetricWarning: Precision and F-score are ill-defined and being set to 0.0 in labels with no predicted samples. Use `zero_division` parameter to control this behavior.\n",
            "  _warn_prf(average, modifier, msg_start, len(result))\n",
            "/usr/local/lib/python3.10/dist-packages/sklearn/metrics/_classification.py:1344: UndefinedMetricWarning: Precision and F-score are ill-defined and being set to 0.0 in labels with no predicted samples. Use `zero_division` parameter to control this behavior.\n",
            "  _warn_prf(average, modifier, msg_start, len(result))\n",
            "/usr/local/lib/python3.10/dist-packages/sklearn/metrics/_classification.py:1344: UndefinedMetricWarning: Precision and F-score are ill-defined and being set to 0.0 in labels with no predicted samples. Use `zero_division` parameter to control this behavior.\n",
            "  _warn_prf(average, modifier, msg_start, len(result))\n"
          ]
        },
        {
          "output_type": "stream",
          "name": "stdout",
          "text": [
            "              precision    recall  f1-score   support\n",
            "\n",
            "     Class 0     0.6923    0.9000    0.7826        10\n",
            "     Class 1     0.6000    0.3000    0.4000        10\n",
            "     Class 2     0.9091    1.0000    0.9524        10\n",
            "     Class 3     0.9000    0.9000    0.9000        10\n",
            "     Class 4     0.8000    0.8000    0.8000        10\n",
            "     Class 5     0.6364    0.7000    0.6667        10\n",
            "     Class 6     0.7500    0.9000    0.8182        10\n",
            "     Class 7     0.7000    0.7000    0.7000        10\n",
            "     Class 8     1.0000    0.9000    0.9474        10\n",
            "     Class 9     0.7000    0.7000    0.7000        10\n",
            "    Class 10     0.5000    0.1000    0.1667        10\n",
            "    Class 11     0.5714    0.8000    0.6667        10\n",
            "    Class 12     0.6000    0.9000    0.7200        10\n",
            "    Class 13     0.7692    1.0000    0.8696        10\n",
            "    Class 14     0.8571    0.6000    0.7059        10\n",
            "    Class 15     1.0000    0.8000    0.8889        10\n",
            "\n",
            "    accuracy                         0.7500       160\n",
            "   macro avg     0.7491    0.7500    0.7303       160\n",
            "weighted avg     0.7491    0.7500    0.7303       160\n",
            "\n",
            "              precision    recall  f1-score   support\n",
            "\n",
            "     Class 0     0.8182    0.9000    0.8571        10\n",
            "     Class 1     0.6000    0.3000    0.4000        10\n",
            "     Class 2     0.9091    1.0000    0.9524        10\n",
            "     Class 3     0.8182    0.9000    0.8571        10\n",
            "     Class 4     0.8000    0.8000    0.8000        10\n",
            "     Class 5     0.4167    0.5000    0.4545        10\n",
            "     Class 6     1.0000    0.7000    0.8235        10\n",
            "     Class 7     0.6667    0.6000    0.6316        10\n",
            "     Class 8     0.9091    1.0000    0.9524        10\n",
            "     Class 9     0.6923    0.9000    0.7826        10\n",
            "    Class 10     0.5833    0.7000    0.6364        10\n",
            "    Class 11     0.7500    0.9000    0.8182        10\n",
            "    Class 12     0.7000    0.7000    0.7000        10\n",
            "    Class 13     1.0000    0.7000    0.8235        10\n",
            "    Class 14     0.6667    0.6000    0.6316        10\n",
            "    Class 15     1.0000    1.0000    1.0000        10\n",
            "\n",
            "    accuracy                         0.7625       160\n",
            "   macro avg     0.7706    0.7625    0.7576       160\n",
            "weighted avg     0.7706    0.7625    0.7576       160\n",
            "\n",
            "              precision    recall  f1-score   support\n",
            "\n",
            "     Class 0     0.7500    0.9000    0.8182        10\n",
            "     Class 1     0.4444    0.4000    0.4211        10\n",
            "     Class 2     0.9091    1.0000    0.9524        10\n",
            "     Class 3     0.9000    0.9000    0.9000        10\n",
            "     Class 4     0.8000    0.8000    0.8000        10\n",
            "     Class 5     0.6000    0.6000    0.6000        10\n",
            "     Class 6     1.0000    0.9000    0.9474        10\n",
            "     Class 7     0.8889    0.8000    0.8421        10\n",
            "     Class 8     0.9000    0.9000    0.9000        10\n",
            "     Class 9     0.7500    0.9000    0.8182        10\n",
            "    Class 10     0.5833    0.7000    0.6364        10\n",
            "    Class 11     0.7778    0.7000    0.7368        10\n",
            "    Class 12     0.7500    0.9000    0.8182        10\n",
            "    Class 13     1.0000    0.8000    0.8889        10\n",
            "    Class 14     1.0000    0.6000    0.7500        10\n",
            "    Class 15     0.9091    1.0000    0.9524        10\n",
            "\n",
            "    accuracy                         0.8000       160\n",
            "   macro avg     0.8102    0.8000    0.7989       160\n",
            "weighted avg     0.8102    0.8000    0.7989       160\n",
            "\n"
          ]
        },
        {
          "output_type": "execute_result",
          "data": {
            "text/plain": [
              "TrainOutput(global_step=1000, training_loss=1.2561053730249405, metrics={'train_runtime': 584.6896, 'train_samples_per_second': 13.682, 'train_steps_per_second': 1.71, 'total_flos': 6.20085842804736e+17, 'train_loss': 1.2561053730249405, 'epoch': 5.0})"
            ]
          },
          "metadata": {},
          "execution_count": 17
        }
      ]
    },
    {
      "cell_type": "code",
      "source": [
        "trainer.evaluate()"
      ],
      "metadata": {
        "colab": {
          "base_uri": "https://localhost:8080/",
          "height": 640
        },
        "id": "iq-TfydXX9gK",
        "outputId": "2609acbd-331d-40bd-895c-d1906ab01f92"
      },
      "execution_count": 18,
      "outputs": [
        {
          "output_type": "display_data",
          "data": {
            "text/plain": [
              "<IPython.core.display.HTML object>"
            ],
            "text/html": [
              "\n",
              "    <div>\n",
              "      \n",
              "      <progress value='20' max='20' style='width:300px; height:20px; vertical-align: middle;'></progress>\n",
              "      [20/20 00:02]\n",
              "    </div>\n",
              "    "
            ]
          },
          "metadata": {}
        },
        {
          "output_type": "stream",
          "name": "stdout",
          "text": [
            "              precision    recall  f1-score   support\n",
            "\n",
            "     Class 0     0.7500    0.9000    0.8182        10\n",
            "     Class 1     0.4444    0.4000    0.4211        10\n",
            "     Class 2     0.9091    1.0000    0.9524        10\n",
            "     Class 3     0.9000    0.9000    0.9000        10\n",
            "     Class 4     0.8000    0.8000    0.8000        10\n",
            "     Class 5     0.6000    0.6000    0.6000        10\n",
            "     Class 6     1.0000    0.9000    0.9474        10\n",
            "     Class 7     0.8889    0.8000    0.8421        10\n",
            "     Class 8     0.9000    0.9000    0.9000        10\n",
            "     Class 9     0.7500    0.9000    0.8182        10\n",
            "    Class 10     0.5833    0.7000    0.6364        10\n",
            "    Class 11     0.7778    0.7000    0.7368        10\n",
            "    Class 12     0.7500    0.9000    0.8182        10\n",
            "    Class 13     1.0000    0.8000    0.8889        10\n",
            "    Class 14     1.0000    0.6000    0.7500        10\n",
            "    Class 15     0.9091    1.0000    0.9524        10\n",
            "\n",
            "    accuracy                         0.8000       160\n",
            "   macro avg     0.8102    0.8000    0.7989       160\n",
            "weighted avg     0.8102    0.8000    0.7989       160\n",
            "\n"
          ]
        },
        {
          "output_type": "execute_result",
          "data": {
            "text/plain": [
              "{'eval_loss': 0.8762070536613464,\n",
              " 'eval_accuracy': 0.8,\n",
              " 'eval_f1': 0.7988705191007822,\n",
              " 'eval_precision': 0.8101641414141414,\n",
              " 'eval_recall': 0.8,\n",
              " 'eval_runtime': 2.6191,\n",
              " 'eval_samples_per_second': 61.09,\n",
              " 'eval_steps_per_second': 7.636,\n",
              " 'epoch': 5.0}"
            ]
          },
          "metadata": {},
          "execution_count": 18
        }
      ]
    },
    {
      "cell_type": "code",
      "source": [
        "predictions = trainer.predict(eval_dataset)\n",
        "labels = predictions.label_ids\n",
        "preds = np.argmax(predictions.predictions, axis=-1)"
      ],
      "metadata": {
        "colab": {
          "base_uri": "https://localhost:8080/",
          "height": 450
        },
        "id": "zNUo1lu-C__P",
        "outputId": "6fa99f52-679e-49b2-a062-222c1afaa738"
      },
      "execution_count": 19,
      "outputs": [
        {
          "output_type": "display_data",
          "data": {
            "text/plain": [
              "<IPython.core.display.HTML object>"
            ],
            "text/html": []
          },
          "metadata": {}
        },
        {
          "output_type": "stream",
          "name": "stdout",
          "text": [
            "              precision    recall  f1-score   support\n",
            "\n",
            "     Class 0     0.7500    0.9000    0.8182        10\n",
            "     Class 1     0.4444    0.4000    0.4211        10\n",
            "     Class 2     0.9091    1.0000    0.9524        10\n",
            "     Class 3     0.9000    0.9000    0.9000        10\n",
            "     Class 4     0.8000    0.8000    0.8000        10\n",
            "     Class 5     0.6000    0.6000    0.6000        10\n",
            "     Class 6     1.0000    0.9000    0.9474        10\n",
            "     Class 7     0.8889    0.8000    0.8421        10\n",
            "     Class 8     0.9000    0.9000    0.9000        10\n",
            "     Class 9     0.7500    0.9000    0.8182        10\n",
            "    Class 10     0.5833    0.7000    0.6364        10\n",
            "    Class 11     0.7778    0.7000    0.7368        10\n",
            "    Class 12     0.7500    0.9000    0.8182        10\n",
            "    Class 13     1.0000    0.8000    0.8889        10\n",
            "    Class 14     1.0000    0.6000    0.7500        10\n",
            "    Class 15     0.9091    1.0000    0.9524        10\n",
            "\n",
            "    accuracy                         0.8000       160\n",
            "   macro avg     0.8102    0.8000    0.7989       160\n",
            "weighted avg     0.8102    0.8000    0.7989       160\n",
            "\n"
          ]
        }
      ]
    },
    {
      "cell_type": "code",
      "source": [
        "cm = confusion_matrix(labels, preds, normalize='true')\n",
        "plt.figure(figsize=(10, 8))\n",
        "sns.heatmap(cm, annot=True, cmap='Blues', fmt='.2f',\n",
        "            xticklabels=[f'Class {i}' for i in range(num_labels)],\n",
        "            yticklabels=[f'Class {i}' for i in range(num_labels)])\n",
        "plt.xticks(rotation=45)\n",
        "plt.yticks(rotation=45)\n",
        "plt.xlabel('Predicted labels')\n",
        "plt.ylabel('True labels')\n",
        "plt.title('Confusion Matrix')\n",
        "plt.show()"
      ],
      "metadata": {
        "colab": {
          "base_uri": "https://localhost:8080/",
          "height": 755
        },
        "id": "gqoHTuMxDBih",
        "outputId": "5e30e77f-cfb3-4555-9d46-7a910c8364f3"
      },
      "execution_count": 20,
      "outputs": [
        {
          "output_type": "display_data",
          "data": {
            "text/plain": [
              "<Figure size 1000x800 with 2 Axes>"
            ],
            "image/png": "[encoded data removed]"
          },
          "metadata": {}
        }
      ]
    }
  ]
}